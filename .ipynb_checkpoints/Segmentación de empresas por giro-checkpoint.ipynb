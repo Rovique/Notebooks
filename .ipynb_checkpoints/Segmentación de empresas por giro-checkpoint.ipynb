{
 "cells": [
  {
   "cell_type": "code",
   "execution_count": 1,
   "metadata": {},
   "outputs": [
    {
     "name": "stderr",
     "output_type": "stream",
     "text": [
      "/Users/rolandooviedo/Documentos/Github/p3.8/lib/python3.8/site-packages/pandas/compat/__init__.py:117: UserWarning: Could not import the lzma module. Your installed Python is incomplete. Attempting to use lzma compression will result in a RuntimeError.\n",
      "  warnings.warn(msg)\n"
     ]
    }
   ],
   "source": [
    "import pandas as pd\n",
    "import os\n",
    "\n",
    "pd.set_option('display.max_columns', 500)"
   ]
  },
  {
   "cell_type": "code",
   "execution_count": 5,
   "metadata": {},
   "outputs": [
    {
     "data": {
      "text/plain": [
       "['De 11 a 50 trabajadores.csv',\n",
       " '.DS_Store',\n",
       " 'De 0 a 10 trabajadores.csv',\n",
       " 'Más de 250 trabajadores.csv',\n",
       " 'Más de 50 trabajadores hasta 250.csv']"
      ]
     },
     "execution_count": 5,
     "metadata": {},
     "output_type": "execute_result"
    }
   ],
   "source": [
    "data_path = os.getcwd()[:-len('notebooks')] + '/Data/Apoyo pa/'\n",
    "os.listdir(data_path)"
   ]
  },
  {
   "cell_type": "code",
   "execution_count": 9,
   "metadata": {},
   "outputs": [
    {
     "data": {
      "text/plain": [
       "['De 11 a 50 trabajadores.csv',\n",
       " 'De 0 a 10 trabajadores.csv',\n",
       " 'Más de 250 trabajadores.csv',\n",
       " 'Más de 50 trabajadores hasta 250.csv']"
      ]
     },
     "execution_count": 9,
     "metadata": {},
     "output_type": "execute_result"
    }
   ],
   "source": [
    "csvs = [x for x in os.listdir(data_path) if x[-3:] == 'csv']\n",
    "csvs"
   ]
  },
  {
   "cell_type": "code",
   "execution_count": 10,
   "metadata": {},
   "outputs": [],
   "source": [
    "frames = [pd.read_csv(data_path + f) for f in csvs]\n",
    "dfs = dict(zip([x[:-4] for x in csvs], frames))"
   ]
  },
  {
   "cell_type": "code",
   "execution_count": 12,
   "metadata": {},
   "outputs": [
    {
     "data": {
      "text/plain": [
       "Index(['Unnamed: 0', 'Razón Social', 'Estado', 'Municipio', 'Domicilio',\n",
       "       'Colonia', 'C.P.', 'Teléfono', 'E-mail', 'Giro', 'SCIAN',\n",
       "       'Rango de Empleados', 'Unnamed: 11', 'Unnamed: 12'],\n",
       "      dtype='object')"
      ]
     },
     "execution_count": 12,
     "metadata": {},
     "output_type": "execute_result"
    }
   ],
   "source": [
    "dfs['De 11 a 50 trabajadores'].columns"
   ]
  },
  {
   "cell_type": "code",
   "execution_count": 27,
   "metadata": {},
   "outputs": [],
   "source": [
    "for d in dfs: \n",
    "    pd.DataFrame(dfs.get(d)['Giro'].value_counts()).to_csv(d + '_giros.csv')"
   ]
  },
  {
   "cell_type": "code",
   "execution_count": null,
   "metadata": {},
   "outputs": [],
   "source": []
  }
 ],
 "metadata": {
  "kernelspec": {
   "display_name": "Python 3",
   "language": "python",
   "name": "python3"
  },
  "language_info": {
   "codemirror_mode": {
    "name": "ipython",
    "version": 3
   },
   "file_extension": ".py",
   "mimetype": "text/x-python",
   "name": "python",
   "nbconvert_exporter": "python",
   "pygments_lexer": "ipython3",
   "version": "3.8.2"
  }
 },
 "nbformat": 4,
 "nbformat_minor": 4
}
