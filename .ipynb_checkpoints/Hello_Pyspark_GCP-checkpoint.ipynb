{
 "cells": [
  {
   "cell_type": "markdown",
   "metadata": {
    "colab_type": "text",
    "id": "k4br6oVoMyKt"
   },
   "source": [
    "## 1. Librerias necesarias"
   ]
  },
  {
   "cell_type": "code",
   "execution_count": 1,
   "metadata": {
    "colab": {},
    "colab_type": "code",
    "id": "qBeVjJxcMyKw"
   },
   "outputs": [
    {
     "name": "stderr",
     "output_type": "stream",
     "text": [
      "/Users/rolandooviedo/Documentos/Github/P369/lib/python3.6/site-packages/pandas/compat/__init__.py:117: UserWarning: Could not import the lzma module. Your installed Python is incomplete. Attempting to use lzma compression will result in a RuntimeError.\n",
      "  warnings.warn(msg)\n"
     ]
    }
   ],
   "source": [
    "from pyspark import SparkContext,HiveContext\n",
    "from pyspark.sql import DataFrame,SQLContext,SparkSession\n",
    "from pyspark.sql.functions import udf\n",
    "import os\n",
    "import subprocess\n",
    "import pandas as pd\n",
    "from datetime import date"
   ]
  },
  {
   "cell_type": "markdown",
   "metadata": {
    "colab_type": "text",
    "id": "SrPnR70oMyLG"
   },
   "source": [
    "## 2. Listado de archivos desde hdfs"
   ]
  },
  {
   "cell_type": "code",
   "execution_count": null,
   "metadata": {
    "colab": {},
    "colab_type": "code",
    "id": "vo3EfH9dMyLJ"
   },
   "outputs": [],
   "source": [
    "ruta = '/user/bigdatita/chicago'\n",
    "#ruta = '/user/hive/warehouse/test.db/chicago'"
   ]
  },
  {
   "cell_type": "code",
   "execution_count": null,
   "metadata": {
    "colab": {},
    "colab_type": "code",
    "id": "Okvia-76MyLV"
   },
   "outputs": [],
   "source": [
    "cmd = 'hdfs dfs -ls %s'%ruta\n",
    "lst = subprocess.check_output(cmd, shell=True).strip().split('\\n')\n",
    "lst = [x.split(' ')[-1] for x in lst]\n",
    "lst = ['hdfs://%s'%x for x in lst if x!='items']"
   ]
  },
  {
   "cell_type": "code",
   "execution_count": null,
   "metadata": {
    "colab": {},
    "colab_type": "code",
    "id": "4BMyMXeeMyLm",
    "outputId": "578e5085-ebd8-4625-df2a-7385934cf461"
   },
   "outputs": [
    {
     "data": {
      "text/plain": [
       "['hdfs:///user/hive/warehouse/test.db/chicago/chicago_taxi_trips_2016_01.csv',\n",
       " 'hdfs:///user/hive/warehouse/test.db/chicago/chicago_taxi_trips_2016_02.csv',\n",
       " 'hdfs:///user/hive/warehouse/test.db/chicago/chicago_taxi_trips_2016_03.csv',\n",
       " 'hdfs:///user/hive/warehouse/test.db/chicago/chicago_taxi_trips_2016_04.csv',\n",
       " 'hdfs:///user/hive/warehouse/test.db/chicago/chicago_taxi_trips_2016_05.csv',\n",
       " 'hdfs:///user/hive/warehouse/test.db/chicago/chicago_taxi_trips_2016_06.csv',\n",
       " 'hdfs:///user/hive/warehouse/test.db/chicago/chicago_taxi_trips_2016_07.csv',\n",
       " 'hdfs:///user/hive/warehouse/test.db/chicago/chicago_taxi_trips_2016_08.csv',\n",
       " 'hdfs:///user/hive/warehouse/test.db/chicago/chicago_taxi_trips_2016_09.csv',\n",
       " 'hdfs:///user/hive/warehouse/test.db/chicago/chicago_taxi_trips_2016_10.csv',\n",
       " 'hdfs:///user/hive/warehouse/test.db/chicago/chicago_taxi_trips_2016_11.csv',\n",
       " 'hdfs:///user/hive/warehouse/test.db/chicago/chicago_taxi_trips_2016_12.csv']"
      ]
     },
     "execution_count": 48,
     "metadata": {
      "tags": []
     },
     "output_type": "execute_result"
    }
   ],
   "source": [
    "lst"
   ]
  },
  {
   "cell_type": "markdown",
   "metadata": {
    "colab_type": "text",
    "id": "mbql03A4MyLt"
   },
   "source": [
    "## 3. Lectura de archivos desde HDFS a Spark"
   ]
  },
  {
   "cell_type": "code",
   "execution_count": null,
   "metadata": {
    "colab": {},
    "colab_type": "code",
    "id": "acm4d0G8MyLv"
   },
   "outputs": [],
   "source": [
    "sparkSession = SparkSession.builder.appName(\"lectura\").getOrCreate()"
   ]
  },
  {
   "cell_type": "code",
   "execution_count": null,
   "metadata": {
    "colab": {},
    "colab_type": "code",
    "id": "0qFWjOVEMyLz",
    "outputId": "0a49f2b6-0ce8-48c0-bb47-e178dce3189a"
   },
   "outputs": [
    {
     "name": "stdout",
     "output_type": "stream",
     "text": [
      "hdfs://localhost:8020/user/hive/warehouse/test.db/chicago/chicago_taxi_trips_2016_01.csv\n",
      "hdfs:/user/hive/warehouse/test.db/chicago/chicago_taxi_trips_2016_02.csv\n",
      "hdfs:/user/hive/warehouse/test.db/chicago/chicago_taxi_trips_2016_03.csv\n",
      "hdfs:/user/hive/warehouse/test.db/chicago/chicago_taxi_trips_2016_04.csv\n",
      "hdfs:/user/hive/warehouse/test.db/chicago/chicago_taxi_trips_2016_05.csv\n",
      "hdfs:/user/hive/warehouse/test.db/chicago/chicago_taxi_trips_2016_06.csv\n",
      "hdfs:/user/hive/warehouse/test.db/chicago/chicago_taxi_trips_2016_07.csv\n",
      "hdfs:/user/hive/warehouse/test.db/chicago/chicago_taxi_trips_2016_08.csv\n",
      "hdfs:/user/hive/warehouse/test.db/chicago/chicago_taxi_trips_2016_09.csv\n",
      "hdfs:/user/hive/warehouse/test.db/chicago/chicago_taxi_trips_2016_10.csv\n",
      "hdfs:/user/hive/warehouse/test.db/chicago/chicago_taxi_trips_2016_11.csv\n",
      "hdfs:/user/hive/warehouse/test.db/chicago/chicago_taxi_trips_2016_12.csv\n",
      "CPU times: user 42.7 ms, sys: 1.75 ms, total: 44.5 ms\n",
      "Wall time: 3.66 s\n"
     ]
    }
   ],
   "source": [
    "%%time\n",
    "for i,arch in enumerate(lst):\n",
    "    print(arch)\n",
    "    if i == 0:\n",
    "        df = sparkSession.read.csv(arch,header=True,inferSchema=False)\n",
    "    else:\n",
    "        df = df.union( sparkSession.read.csv(arch,header=True,inferSchema=False))"
   ]
  },
  {
   "cell_type": "code",
   "execution_count": null,
   "metadata": {
    "colab": {},
    "colab_type": "code",
    "id": "ok2hw0RfMyL4",
    "outputId": "1af82e19-5705-4365-c104-4f3db694c93b"
   },
   "outputs": [
    {
     "data": {
      "text/plain": [
       "pyspark.sql.dataframe.DataFrame"
      ]
     },
     "execution_count": 7,
     "metadata": {
      "tags": []
     },
     "output_type": "execute_result"
    }
   ],
   "source": [
    "type(df)"
   ]
  },
  {
   "cell_type": "code",
   "execution_count": null,
   "metadata": {
    "colab": {},
    "colab_type": "code",
    "id": "FJPlVcnKMyL-",
    "outputId": "559c0c08-7547-490b-ed58-3710b71a35ff"
   },
   "outputs": [
    {
     "name": "stdout",
     "output_type": "stream",
     "text": [
      "root\n",
      " |-- taxi_id: string (nullable = true)\n",
      " |-- trip_start_timestamp: string (nullable = true)\n",
      " |-- trip_end_timestamp: string (nullable = true)\n",
      " |-- trip_seconds: string (nullable = true)\n",
      " |-- trip_miles: string (nullable = true)\n",
      " |-- pickup_census_tract: string (nullable = true)\n",
      " |-- dropoff_census_tract: string (nullable = true)\n",
      " |-- pickup_community_area: string (nullable = true)\n",
      " |-- dropoff_community_area: string (nullable = true)\n",
      " |-- fare: string (nullable = true)\n",
      " |-- tips: string (nullable = true)\n",
      " |-- tolls: string (nullable = true)\n",
      " |-- extras: string (nullable = true)\n",
      " |-- trip_total: string (nullable = true)\n",
      " |-- payment_type: string (nullable = true)\n",
      " |-- company: string (nullable = true)\n",
      " |-- pickup_latitude: string (nullable = true)\n",
      " |-- pickup_longitude: string (nullable = true)\n",
      " |-- dropoff_latitude: string (nullable = true)\n",
      " |-- dropoff_longitude: string (nullable = true)\n",
      "\n"
     ]
    }
   ],
   "source": [
    "df.printSchema()"
   ]
  },
  {
   "cell_type": "code",
   "execution_count": null,
   "metadata": {
    "colab": {},
    "colab_type": "code",
    "id": "G4UVt2VdMyMC"
   },
   "outputs": [],
   "source": [
    "from pyspark.sql.functions import to_timestamp"
   ]
  },
  {
   "cell_type": "code",
   "execution_count": null,
   "metadata": {
    "colab": {},
    "colab_type": "code",
    "id": "MLqNS7ubMyMG",
    "outputId": "bf370082-6951-410c-a943-05733818f8f6"
   },
   "outputs": [
    {
     "name": "stdout",
     "output_type": "stream",
     "text": [
      "CPU times: user 3.11 ms, sys: 558 µs, total: 3.67 ms\n",
      "Wall time: 46.7 ms\n"
     ]
    }
   ],
   "source": [
    "%%time\n",
    "df = df.withColumn('trip_start_timestamp',to_timestamp(df['trip_start_timestamp']))\n",
    "df = df.withColumn('trip_end_timestamp',to_timestamp(df['trip_end_timestamp']))"
   ]
  },
  {
   "cell_type": "code",
   "execution_count": null,
   "metadata": {
    "colab": {},
    "colab_type": "code",
    "id": "oSdfJfQiMyMK",
    "outputId": "cb7af862-6466-432a-8d77-e3cdce9ab178"
   },
   "outputs": [
    {
     "name": "stdout",
     "output_type": "stream",
     "text": [
      "root\n",
      " |-- taxi_id: string (nullable = true)\n",
      " |-- trip_start_timestamp: timestamp (nullable = true)\n",
      " |-- trip_end_timestamp: timestamp (nullable = true)\n",
      " |-- trip_seconds: string (nullable = true)\n",
      " |-- trip_miles: string (nullable = true)\n",
      " |-- pickup_census_tract: string (nullable = true)\n",
      " |-- dropoff_census_tract: string (nullable = true)\n",
      " |-- pickup_community_area: string (nullable = true)\n",
      " |-- dropoff_community_area: string (nullable = true)\n",
      " |-- fare: string (nullable = true)\n",
      " |-- tips: string (nullable = true)\n",
      " |-- tolls: string (nullable = true)\n",
      " |-- extras: string (nullable = true)\n",
      " |-- trip_total: string (nullable = true)\n",
      " |-- payment_type: string (nullable = true)\n",
      " |-- company: string (nullable = true)\n",
      " |-- pickup_latitude: string (nullable = true)\n",
      " |-- pickup_longitude: string (nullable = true)\n",
      " |-- dropoff_latitude: string (nullable = true)\n",
      " |-- dropoff_longitude: string (nullable = true)\n",
      "\n"
     ]
    }
   ],
   "source": [
    "df.printSchema()"
   ]
  },
  {
   "cell_type": "markdown",
   "metadata": {
    "colab_type": "text",
    "id": "UYBuvpeEMyMO"
   },
   "source": [
    "## 4. Operaciones básicas"
   ]
  },
  {
   "cell_type": "code",
   "execution_count": null,
   "metadata": {
    "colab": {},
    "colab_type": "code",
    "id": "UBLplBAmMyMP",
    "outputId": "2b7f4b52-d1cd-4240-d7d1-fb41ea572f02"
   },
   "outputs": [
    {
     "name": "stdout",
     "output_type": "stream",
     "text": [
      "CPU times: user 5.16 ms, sys: 195 µs, total: 5.35 ms\n",
      "Wall time: 17.6 s\n"
     ]
    },
    {
     "data": {
      "text/plain": [
       "19866157"
      ]
     },
     "execution_count": 13,
     "metadata": {
      "tags": []
     },
     "output_type": "execute_result"
    }
   ],
   "source": [
    "%%time\n",
    "df.count()"
   ]
  },
  {
   "cell_type": "code",
   "execution_count": null,
   "metadata": {
    "colab": {},
    "colab_type": "code",
    "id": "tvlXpmMqMyMS",
    "outputId": "fdc061a1-9921-4754-bf01-e60a83b55647"
   },
   "outputs": [
    {
     "name": "stdout",
     "output_type": "stream",
     "text": [
      "+-------+--------------------+\n",
      "|taxi_id|trip_start_timestamp|\n",
      "+-------+--------------------+\n",
      "|     85| 2016-01-13 06:15:00|\n",
      "|   2776| 2016-01-22 09:30:00|\n",
      "|   3168| 2016-01-31 21:30:00|\n",
      "|   4237| 2016-01-23 17:30:00|\n",
      "|   5710| 2016-01-14 05:45:00|\n",
      "|   1987| 2016-01-08 18:15:00|\n",
      "+-------+--------------------+\n",
      "only showing top 6 rows\n",
      "\n"
     ]
    }
   ],
   "source": [
    "df.select('taxi_id','trip_start_timestamp').show(6)"
   ]
  },
  {
   "cell_type": "code",
   "execution_count": null,
   "metadata": {
    "colab": {},
    "colab_type": "code",
    "id": "BXJu7C3-MyMW",
    "outputId": "29a49c5f-d11a-498e-e715-cd2fef152f1f"
   },
   "outputs": [
    {
     "name": "stdout",
     "output_type": "stream",
     "text": [
      "+-------+------------------+\n",
      "|summary|              fare|\n",
      "+-------+------------------+\n",
      "|  count|          19865857|\n",
      "|   mean|13.890483490342264|\n",
      "| stddev|25.389793055250195|\n",
      "|    min|              0.00|\n",
      "|    max|           9999.00|\n",
      "+-------+------------------+\n",
      "\n",
      "CPU times: user 5.97 ms, sys: 0 ns, total: 5.97 ms\n",
      "Wall time: 13 s\n"
     ]
    }
   ],
   "source": [
    "%%time\n",
    "df.describe('fare').show()"
   ]
  },
  {
   "cell_type": "code",
   "execution_count": null,
   "metadata": {
    "colab": {},
    "colab_type": "code",
    "id": "qLrsPO9gMyMb",
    "outputId": "b4f48d36-04e3-40ec-b77c-ea167f947a8c"
   },
   "outputs": [
    {
     "name": "stdout",
     "output_type": "stream",
     "text": [
      "CPU times: user 880 µs, sys: 3.38 ms, total: 4.26 ms\n",
      "Wall time: 92.5 ms\n"
     ]
    }
   ],
   "source": [
    "%%time\n",
    "df2=df.filter((df.fare>30)&(df['trip_start_timestamp']<date(2016,1,15)))"
   ]
  },
  {
   "cell_type": "code",
   "execution_count": null,
   "metadata": {
    "colab": {},
    "colab_type": "code",
    "id": "h7ejZYxGMyMi",
    "outputId": "856f8f6c-0b06-4ee8-d8df-897367896240"
   },
   "outputs": [
    {
     "name": "stdout",
     "output_type": "stream",
     "text": [
      "CPU times: user 0 ns, sys: 3.95 ms, total: 3.95 ms\n",
      "Wall time: 11.4 s\n"
     ]
    },
    {
     "data": {
      "text/plain": [
       "82026"
      ]
     },
     "execution_count": 17,
     "metadata": {
      "tags": []
     },
     "output_type": "execute_result"
    }
   ],
   "source": [
    "%%time\n",
    "df2.count()"
   ]
  },
  {
   "cell_type": "code",
   "execution_count": null,
   "metadata": {
    "colab": {},
    "colab_type": "code",
    "id": "ZydgDAVaMyMs",
    "outputId": "6078c1c9-f8fc-4f5a-e6a7-b83fcd936b4c"
   },
   "outputs": [
    {
     "name": "stdout",
     "output_type": "stream",
     "text": [
      "+-------+--------------------+-------------------+\n",
      "|taxi_id|trip_start_timestamp| trip_end_timestamp|\n",
      "+-------+--------------------+-------------------+\n",
      "|   4986| 2016-01-14 04:30:00|2016-01-14 05:00:00|\n",
      "|   8613| 2016-01-14 14:15:00|2016-01-14 14:45:00|\n",
      "|   8162| 2016-01-14 18:15:00|2016-01-14 19:00:00|\n",
      "|   6535| 2016-01-09 11:15:00|2016-01-09 11:30:00|\n",
      "|   3690| 2016-01-10 19:00:00|2016-01-10 19:00:00|\n",
      "+-------+--------------------+-------------------+\n",
      "only showing top 5 rows\n",
      "\n",
      "CPU times: user 4.3 ms, sys: 757 µs, total: 5.05 ms\n",
      "Wall time: 1.39 s\n"
     ]
    }
   ],
   "source": [
    "%%time\n",
    "df2.select('taxi_id','trip_start_timestamp', 'trip_end_timestamp').show(5)"
   ]
  },
  {
   "cell_type": "markdown",
   "metadata": {
    "colab_type": "text",
    "id": "POLWM6TCMyMz"
   },
   "source": [
    "## 5. Funciones definidas por el usuario"
   ]
  },
  {
   "cell_type": "code",
   "execution_count": null,
   "metadata": {
    "colab": {},
    "colab_type": "code",
    "id": "80DW8XRgMyMz"
   },
   "outputs": [],
   "source": [
    "f = udf(lambda x:x.strftime('%Y%m'))"
   ]
  },
  {
   "cell_type": "code",
   "execution_count": null,
   "metadata": {
    "colab": {},
    "colab_type": "code",
    "id": "tWGbpVaCMyM7",
    "outputId": "dc90746a-1df2-4eb9-d6f4-3ef164edc4b3"
   },
   "outputs": [
    {
     "name": "stdout",
     "output_type": "stream",
     "text": [
      "+------+--------------------+-----+\n",
      "|    fh|trip_start_timestamp| fare|\n",
      "+------+--------------------+-----+\n",
      "|201601| 2016-01-13 06:15:00| 4.50|\n",
      "|201601| 2016-01-22 09:30:00| 4.45|\n",
      "|201601| 2016-01-31 21:30:00|42.75|\n",
      "|201601| 2016-01-23 17:30:00| 7.00|\n",
      "|201601| 2016-01-14 05:45:00|10.25|\n",
      "+------+--------------------+-----+\n",
      "only showing top 5 rows\n",
      "\n",
      "CPU times: user 15.3 ms, sys: 3.51 ms, total: 18.8 ms\n",
      "Wall time: 12.3 s\n"
     ]
    }
   ],
   "source": [
    "%%time\n",
    "df.withColumn('fh',f(df['trip_start_timestamp'])).select('fh','trip_start_timestamp','fare').show(5)"
   ]
  },
  {
   "cell_type": "code",
   "execution_count": null,
   "metadata": {
    "colab": {},
    "colab_type": "code",
    "id": "AKSPeNPxMyM-",
    "outputId": "34b88542-6dc2-431e-f26e-3c225406329b"
   },
   "outputs": [
    {
     "name": "stdout",
     "output_type": "stream",
     "text": [
      "CPU times: user 2.53 ms, sys: 449 µs, total: 2.98 ms\n",
      "Wall time: 11.1 ms\n"
     ]
    }
   ],
   "source": [
    "%%time\n",
    "df = df.withColumn('fh',f(df['trip_start_timestamp']))"
   ]
  },
  {
   "cell_type": "code",
   "execution_count": null,
   "metadata": {
    "colab": {},
    "colab_type": "code",
    "id": "eyrYzdpDMyNB"
   },
   "outputs": [],
   "source": [
    "from pyspark.sql import functions as F"
   ]
  },
  {
   "cell_type": "code",
   "execution_count": null,
   "metadata": {
    "colab": {},
    "colab_type": "code",
    "id": "nPNrnewtMyNI",
    "outputId": "debfd932-d0dc-4474-bf8a-6b4021517a60"
   },
   "outputs": [
    {
     "name": "stdout",
     "output_type": "stream",
     "text": [
      "+------+---------+---------+------------------+------------------+------------------+\n",
      "|    fh|min(fare)|max(fare)|         avg(fare)| stddev_samp(fare)|         avg(tips)|\n",
      "+------+---------+---------+------------------+------------------+------------------+\n",
      "|201607|     0.00|   999.99| 14.04946081363528| 20.58891652949124|1.5933120310403202|\n",
      "|201611|     0.00|   999.99|14.062723070495885| 23.51303144563972|1.6601316774044181|\n",
      "|201605|     0.00|  9999.00|14.581178349487448| 29.09179066737618| 1.783741596632322|\n",
      "|201602|     0.00|   999.99|13.266467420290947| 19.88635909009765|1.5922205744464408|\n",
      "|201606|     0.00|   999.99|14.570897891073576|23.594892747714532|1.8046511297304668|\n",
      "|201609|     0.00|   999.99|14.222663623373517|25.177290998835247|1.6526758568247304|\n",
      "|201610|     0.00|   999.99|14.368423414112398| 25.84362555261587|1.6878759348363959|\n",
      "|201608|     0.00|   999.99| 13.87390564865237| 28.47597739157845|1.5590011227617797|\n",
      "|201604|     0.00|   999.99| 14.04663645356125|18.412455282413944|1.7409163976021478|\n",
      "|201601|     0.00|   999.99| 13.15396415230177| 32.87421450962872|1.5151068196689044|\n",
      "|201603|     0.00|   999.99| 13.69672837849739|30.094378819583884|1.6480074062298993|\n",
      "|201612|     0.00|   999.99|12.402507222910355|21.533532917652092|1.3762160218161243|\n",
      "+------+---------+---------+------------------+------------------+------------------+\n",
      "\n",
      "CPU times: user 31.6 ms, sys: 12.4 ms, total: 44 ms\n",
      "Wall time: 1min 3s\n"
     ]
    }
   ],
   "source": [
    "%%time\n",
    "df.groupby('fh').agg(F.min('fare'),F.max('fare'),F.mean('fare'),F.stddev('fare'),F.mean('tips')).show()"
   ]
  },
  {
   "cell_type": "code",
   "execution_count": null,
   "metadata": {
    "colab": {},
    "colab_type": "code",
    "id": "iRn16oeUMyNM",
    "outputId": "03042518-7f9d-4da0-9fff-c67914843463"
   },
   "outputs": [
    {
     "name": "stdout",
     "output_type": "stream",
     "text": [
      "+------+-----------------------+\n",
      "|    fh|count(DISTINCT taxi_id)|\n",
      "+------+-----------------------+\n",
      "|201607|                   5777|\n",
      "|201611|                   4493|\n",
      "|201605|                   6072|\n",
      "|201602|                   5645|\n",
      "|201606|                   5971|\n",
      "|201609|                   4871|\n",
      "|201610|                   4758|\n",
      "|201608|                   5139|\n",
      "|201604|                   5970|\n",
      "|201601|                   5636|\n",
      "|201603|                   5736|\n",
      "|201612|                   4550|\n",
      "+------+-----------------------+\n",
      "\n",
      "CPU times: user 64.2 ms, sys: 10.9 ms, total: 75.1 ms\n",
      "Wall time: 1min 3s\n"
     ]
    }
   ],
   "source": [
    "%%time\n",
    "df.groupby('fh').agg(F.countDistinct('taxi_id')).show()"
   ]
  },
  {
   "cell_type": "markdown",
   "metadata": {
    "colab_type": "text",
    "id": "0Vx7d6AxMyNP"
   },
   "source": [
    "## 6. Uso de SQL "
   ]
  },
  {
   "cell_type": "code",
   "execution_count": null,
   "metadata": {
    "colab": {},
    "colab_type": "code",
    "id": "0Vw9QLz7MyNP"
   },
   "outputs": [],
   "source": [
    "sqlContext = SQLContext(sc)"
   ]
  },
  {
   "cell_type": "code",
   "execution_count": null,
   "metadata": {
    "colab": {},
    "colab_type": "code",
    "id": "kQcmrlfKMyNS"
   },
   "outputs": [],
   "source": [
    "df.registerTempTable(\"taxi_trips\")"
   ]
  },
  {
   "cell_type": "code",
   "execution_count": null,
   "metadata": {
    "colab": {},
    "colab_type": "code",
    "id": "SywZ63ddMyNV"
   },
   "outputs": [],
   "source": [
    "query = \"\"\"\n",
    "SELECT \n",
    "  year(trip_start_timestamp)* 100 + month(trip_start_timestamp) as fh, \n",
    "  count(*) as casos \n",
    "from \n",
    "  taxi_trips \n",
    "group by \n",
    "  year(trip_start_timestamp)* 100 + month(trip_start_timestamp) \n",
    "order by \n",
    "  fh\n",
    "\n",
    "\"\"\""
   ]
  },
  {
   "cell_type": "code",
   "execution_count": null,
   "metadata": {
    "colab": {},
    "colab_type": "code",
    "id": "j4v-opOuMyNY",
    "outputId": "edb6f046-386b-40f3-f039-91a3c6e0fc6e"
   },
   "outputs": [
    {
     "name": "stdout",
     "output_type": "stream",
     "text": [
      "+------+-------+\n",
      "|    fh|  casos|\n",
      "+------+-------+\n",
      "|201601|1705805|\n",
      "|201602|1751192|\n",
      "|201603|1975108|\n",
      "|201604|1952152|\n",
      "|201605|1943584|\n",
      "|201606|1934479|\n",
      "|201607|1745387|\n",
      "|201608|1523947|\n",
      "|201609|1294020|\n",
      "|201610|1499771|\n",
      "|201611|1295000|\n",
      "|201612|1245712|\n",
      "+------+-------+\n",
      "\n",
      "CPU times: user 3.87 ms, sys: 700 µs, total: 4.57 ms\n",
      "Wall time: 21.1 s\n"
     ]
    }
   ],
   "source": [
    "%%time\n",
    "sqlContext.sql(query).show()"
   ]
  },
  {
   "cell_type": "markdown",
   "metadata": {
    "colab_type": "text",
    "id": "OD87ItA6MyNc"
   },
   "source": [
    "## 7. Leer tabla desde Hive"
   ]
  },
  {
   "cell_type": "code",
   "execution_count": null,
   "metadata": {
    "colab": {},
    "colab_type": "code",
    "id": "brilrkPOMyNc",
    "outputId": "dbb79aa3-ceaa-4440-d07c-77b64adf0c10"
   },
   "outputs": [
    {
     "name": "stdout",
     "output_type": "stream",
     "text": [
      "CPU times: user 3.56 ms, sys: 0 ns, total: 3.56 ms\n",
      "Wall time: 156 ms\n"
     ]
    }
   ],
   "source": [
    "%%time\n",
    "hive_context = HiveContext(sc)\n",
    "tabla = hive_context.table(\"test.chicago\")"
   ]
  },
  {
   "cell_type": "code",
   "execution_count": null,
   "metadata": {
    "colab": {},
    "colab_type": "code",
    "id": "EwodrfEwMyNf",
    "outputId": "ec6f022d-3344-4d07-cdbc-59a56d14a302"
   },
   "outputs": [
    {
     "data": {
      "text/plain": [
       "pyspark.sql.dataframe.DataFrame"
      ]
     },
     "execution_count": 30,
     "metadata": {
      "tags": []
     },
     "output_type": "execute_result"
    }
   ],
   "source": [
    "type(tabla)"
   ]
  },
  {
   "cell_type": "code",
   "execution_count": null,
   "metadata": {
    "colab": {},
    "colab_type": "code",
    "id": "BQge_1V5MyNh",
    "outputId": "acc8b676-5f55-4be1-bddf-d298a74955ec"
   },
   "outputs": [
    {
     "name": "stdout",
     "output_type": "stream",
     "text": [
      "CPU times: user 0 ns, sys: 3.59 ms, total: 3.59 ms\n",
      "Wall time: 16.3 s\n"
     ]
    },
    {
     "data": {
      "text/plain": [
       "19866169"
      ]
     },
     "execution_count": 31,
     "metadata": {
      "tags": []
     },
     "output_type": "execute_result"
    }
   ],
   "source": [
    "%%time\n",
    "tabla.count()"
   ]
  },
  {
   "cell_type": "code",
   "execution_count": null,
   "metadata": {
    "colab": {},
    "colab_type": "code",
    "id": "qAdSUH9SMyNv",
    "outputId": "8a3406f9-91c3-4f36-fcc7-685e2425ed63"
   },
   "outputs": [
    {
     "name": "stdout",
     "output_type": "stream",
     "text": [
      "CPU times: user 3.64 ms, sys: 0 ns, total: 3.64 ms\n",
      "Wall time: 21 ms\n"
     ]
    }
   ],
   "source": [
    "%%time\n",
    "tabla = tabla.groupby('trip_start_timestamp').agg({'fare':'mean'})"
   ]
  },
  {
   "cell_type": "code",
   "execution_count": null,
   "metadata": {
    "colab": {},
    "colab_type": "code",
    "id": "uPAaEBV4MyNy",
    "outputId": "8b30fa79-9628-464d-91f5-e5fd920a6fb9"
   },
   "outputs": [
    {
     "name": "stdout",
     "output_type": "stream",
     "text": [
      "+--------------------+------------------+\n",
      "|trip_start_timestamp|         avg(fare)|\n",
      "+--------------------+------------------+\n",
      "| 2016-02-22 12:45:00|14.950078528588978|\n",
      "| 2016-02-12 15:00:00| 12.50338900253206|\n",
      "| 2016-02-14 15:30:00| 12.20341426649658|\n",
      "| 2016-02-04 16:45:00|14.139089924542644|\n",
      "+--------------------+------------------+\n",
      "only showing top 4 rows\n",
      "\n"
     ]
    }
   ],
   "source": [
    "tabla.show(4)"
   ]
  },
  {
   "cell_type": "markdown",
   "metadata": {
    "colab_type": "text",
    "id": "UptBBnc9MyN1"
   },
   "source": [
    "## 8. Escribir en Hive y HDFS"
   ]
  },
  {
   "cell_type": "code",
   "execution_count": null,
   "metadata": {
    "colab": {},
    "colab_type": "code",
    "id": "HhJv3whLMyN2"
   },
   "outputs": [],
   "source": [
    "tabla.createOrReplaceTempView('grupo_chicago')"
   ]
  },
  {
   "cell_type": "code",
   "execution_count": null,
   "metadata": {
    "colab": {},
    "colab_type": "code",
    "id": "3CmprfZ-MyN4",
    "outputId": "2dc5f7a6-434f-4276-e438-e69dc3701c0d"
   },
   "outputs": [
    {
     "name": "stdout",
     "output_type": "stream",
     "text": [
      "CPU times: user 3.29 ms, sys: 592 µs, total: 3.88 ms\n",
      "Wall time: 14.7 s\n"
     ]
    },
    {
     "data": {
      "text/plain": [
       "DataFrame[]"
      ]
     },
     "execution_count": 35,
     "metadata": {
      "tags": []
     },
     "output_type": "execute_result"
    }
   ],
   "source": [
    "%%time\n",
    "hive_context.sql('create table test.grupo_chicago as select * from grupo_chicago')"
   ]
  },
  {
   "cell_type": "code",
   "execution_count": null,
   "metadata": {
    "colab": {},
    "colab_type": "code",
    "id": "WmjOte2uMyN7",
    "outputId": "7ab4886e-7529-4a42-9dd8-8f0de170a3df"
   },
   "outputs": [
    {
     "data": {
      "text/plain": [
       "'hdfs:///user/bigdatita/chicago'"
      ]
     },
     "execution_count": 36,
     "metadata": {
      "tags": []
     },
     "output_type": "execute_result"
    }
   ],
   "source": [
    "'hdfs://%s'%ruta"
   ]
  },
  {
   "cell_type": "code",
   "execution_count": null,
   "metadata": {
    "colab": {},
    "colab_type": "code",
    "id": "pfO9RY16MyOB",
    "outputId": "39fd3f99-6d2a-4291-e470-e1862c7e2627"
   },
   "outputs": [
    {
     "name": "stdout",
     "output_type": "stream",
     "text": [
      "Help on method format in module pyspark.sql.readwriter:\n",
      "\n",
      "format(self, source) method of pyspark.sql.readwriter.DataFrameWriter instance\n",
      "    Specifies the underlying output data source.\n",
      "    \n",
      "    :param source: string, name of the data source, e.g. 'json', 'parquet'.\n",
      "    \n",
      "    >>> df.write.format('json').save(os.path.join(tempfile.mkdtemp(), 'data'))\n",
      "    \n",
      "    .. versionadded:: 1.4\n",
      "\n"
     ]
    }
   ],
   "source": [
    "help(tabla.write.format)"
   ]
  },
  {
   "cell_type": "code",
   "execution_count": null,
   "metadata": {
    "colab": {},
    "colab_type": "code",
    "id": "bUDRqnwAMyOE"
   },
   "outputs": [],
   "source": [
    "%%time\n",
    "tabla.write.format('csv').save('hdfs://%s/agrupado.csv'%ruta)\n",
    "#tabla.write.format('parquet').save('hdfs://%s/agrupado.parquet'%ruta)"
   ]
  },
  {
   "cell_type": "code",
   "execution_count": null,
   "metadata": {
    "colab": {},
    "colab_type": "code",
    "id": "tHubDAczMyOK",
    "outputId": "91815cfa-d96a-4c33-844b-f829426ceec5"
   },
   "outputs": [
    {
     "data": {
      "text/plain": [
       "34933"
      ]
     },
     "execution_count": 45,
     "metadata": {
      "tags": []
     },
     "output_type": "execute_result"
    }
   ],
   "source": [
    "df3 = sparkSession.read.csv('hdfs://%s/agrupado.csv'%ruta,header=True,inferSchema=True)\n",
    "df3.count()"
   ]
  },
  {
   "cell_type": "markdown",
   "metadata": {
    "colab_type": "text",
    "id": "RJaX8upEMyON"
   },
   "source": [
    "## 9. Cruces"
   ]
  },
  {
   "cell_type": "code",
   "execution_count": null,
   "metadata": {
    "colab": {},
    "colab_type": "code",
    "id": "CYFWds78MyOO",
    "outputId": "1043380c-1140-4671-8f88-79ba91948ec6"
   },
   "outputs": [
    {
     "name": "stdout",
     "output_type": "stream",
     "text": [
      "CPU times: user 3.26 ms, sys: 624 µs, total: 3.89 ms\n",
      "Wall time: 57.3 ms\n"
     ]
    }
   ],
   "source": [
    "%%time\n",
    "df =  hive_context.table(\"test.chicago\")\n",
    "df2=df.filter((df.fare>30)&(df['trip_start_timestamp']<date(2016,1,15)))"
   ]
  },
  {
   "cell_type": "code",
   "execution_count": null,
   "metadata": {
    "colab": {},
    "colab_type": "code",
    "id": "7nc7t_jDMyOS",
    "outputId": "2155ad55-d73e-482f-d0aa-6c8ab936c4fb"
   },
   "outputs": [
    {
     "name": "stdout",
     "output_type": "stream",
     "text": [
      "CPU times: user 7.41 ms, sys: 0 ns, total: 7.41 ms\n",
      "Wall time: 25.1 s\n"
     ]
    },
    {
     "data": {
      "text/plain": [
       "328651010"
      ]
     },
     "execution_count": 52,
     "metadata": {
      "tags": []
     },
     "output_type": "execute_result"
    }
   ],
   "source": [
    "%%time\n",
    "df.join(df2, df.taxi_id == df2.taxi_id,'inner').count()"
   ]
  },
  {
   "cell_type": "markdown",
   "metadata": {
    "colab_type": "text",
    "id": "IulCJYzvMyOU"
   },
   "source": [
    "## 10. Convertir a pandas"
   ]
  },
  {
   "cell_type": "code",
   "execution_count": null,
   "metadata": {
    "colab": {},
    "colab_type": "code",
    "id": "8kEVmoiRMyOV"
   },
   "outputs": [],
   "source": [
    "%%time\n",
    "df = df.toPandas()"
   ]
  },
  {
   "cell_type": "code",
   "execution_count": null,
   "metadata": {
    "colab": {},
    "colab_type": "code",
    "id": "IKSfc2UcMyOY"
   },
   "outputs": [],
   "source": [
    "df.describe()"
   ]
  },
  {
   "cell_type": "code",
   "execution_count": null,
   "metadata": {
    "colab": {},
    "colab_type": "code",
    "id": "zXIXVuaHMyOc"
   },
   "outputs": [],
   "source": []
  }
 ],
 "metadata": {
  "colab": {
   "name": "Hello Pyspark GCP.ipynb",
   "provenance": []
  },
  "kernelspec": {
   "display_name": "Python 3",
   "language": "python",
   "name": "python3"
  },
  "language_info": {
   "codemirror_mode": {
    "name": "ipython",
    "version": 3
   },
   "file_extension": ".py",
   "mimetype": "text/x-python",
   "name": "python",
   "nbconvert_exporter": "python",
   "pygments_lexer": "ipython3",
   "version": "3.6.9"
  }
 },
 "nbformat": 4,
 "nbformat_minor": 1
}
